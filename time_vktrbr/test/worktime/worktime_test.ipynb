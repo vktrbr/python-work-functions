{
 "cells": [
  {
   "cell_type": "markdown",
   "source": [
    "## Тестирование функции worktime.worktime\n",
    "Собрано несколько разных случаев, проверим, что скрипт будет выдавать."
   ],
   "metadata": {
    "collapsed": false,
    "pycharm": {
     "name": "#%% md\n"
    }
   }
  },
  {
   "cell_type": "code",
   "execution_count": 1,
   "outputs": [
    {
     "data": {
      "text/plain": "    ID работника       День Начало рабочего дня Конец рабочего дня  \\\n0              1 2022-04-29            09:00:00           16:45:00   \n1              1 2022-04-30                 NaN                NaN   \n2              1 2022-05-01                 NaN                NaN   \n3              1 2022-05-02                 NaN                NaN   \n4              1 2022-05-03                 NaN                NaN   \n5              1 2022-05-04            09:00:00           18:00:00   \n6              1 2022-05-05            09:00:00           18:00:00   \n7              1 2022-05-06            09:00:00           16:45:00   \n8              1 2022-05-07                 NaN                NaN   \n9              1 2022-05-08                 NaN                NaN   \n10             1 2022-05-09                 NaN                NaN   \n11             1 2022-05-10            09:00:00           18:00:00   \n\n    Рабочий день  \n0           True  \n1          False  \n2          False  \n3          False  \n4          False  \n5           True  \n6           True  \n7           True  \n8          False  \n9          False  \n10         False  \n11          True  ",
      "text/html": "<div>\n<style scoped>\n    .dataframe tbody tr th:only-of-type {\n        vertical-align: middle;\n    }\n\n    .dataframe tbody tr th {\n        vertical-align: top;\n    }\n\n    .dataframe thead th {\n        text-align: right;\n    }\n</style>\n<table border=\"1\" class=\"dataframe\">\n  <thead>\n    <tr style=\"text-align: right;\">\n      <th></th>\n      <th>ID работника</th>\n      <th>День</th>\n      <th>Начало рабочего дня</th>\n      <th>Конец рабочего дня</th>\n      <th>Рабочий день</th>\n    </tr>\n  </thead>\n  <tbody>\n    <tr>\n      <th>0</th>\n      <td>1</td>\n      <td>2022-04-29</td>\n      <td>09:00:00</td>\n      <td>16:45:00</td>\n      <td>True</td>\n    </tr>\n    <tr>\n      <th>1</th>\n      <td>1</td>\n      <td>2022-04-30</td>\n      <td>NaN</td>\n      <td>NaN</td>\n      <td>False</td>\n    </tr>\n    <tr>\n      <th>2</th>\n      <td>1</td>\n      <td>2022-05-01</td>\n      <td>NaN</td>\n      <td>NaN</td>\n      <td>False</td>\n    </tr>\n    <tr>\n      <th>3</th>\n      <td>1</td>\n      <td>2022-05-02</td>\n      <td>NaN</td>\n      <td>NaN</td>\n      <td>False</td>\n    </tr>\n    <tr>\n      <th>4</th>\n      <td>1</td>\n      <td>2022-05-03</td>\n      <td>NaN</td>\n      <td>NaN</td>\n      <td>False</td>\n    </tr>\n    <tr>\n      <th>5</th>\n      <td>1</td>\n      <td>2022-05-04</td>\n      <td>09:00:00</td>\n      <td>18:00:00</td>\n      <td>True</td>\n    </tr>\n    <tr>\n      <th>6</th>\n      <td>1</td>\n      <td>2022-05-05</td>\n      <td>09:00:00</td>\n      <td>18:00:00</td>\n      <td>True</td>\n    </tr>\n    <tr>\n      <th>7</th>\n      <td>1</td>\n      <td>2022-05-06</td>\n      <td>09:00:00</td>\n      <td>16:45:00</td>\n      <td>True</td>\n    </tr>\n    <tr>\n      <th>8</th>\n      <td>1</td>\n      <td>2022-05-07</td>\n      <td>NaN</td>\n      <td>NaN</td>\n      <td>False</td>\n    </tr>\n    <tr>\n      <th>9</th>\n      <td>1</td>\n      <td>2022-05-08</td>\n      <td>NaN</td>\n      <td>NaN</td>\n      <td>False</td>\n    </tr>\n    <tr>\n      <th>10</th>\n      <td>1</td>\n      <td>2022-05-09</td>\n      <td>NaN</td>\n      <td>NaN</td>\n      <td>False</td>\n    </tr>\n    <tr>\n      <th>11</th>\n      <td>1</td>\n      <td>2022-05-10</td>\n      <td>09:00:00</td>\n      <td>18:00:00</td>\n      <td>True</td>\n    </tr>\n  </tbody>\n</table>\n</div>"
     },
     "execution_count": 1,
     "metadata": {},
     "output_type": "execute_result"
    }
   ],
   "source": [
    "from time_vktrbr.worktime import *\n",
    "\n",
    "schedule_raw = pd.read_excel('worktime-test-example.xlsx', sheet_name='Расписание',\n",
    "                             dtype={'Начало рабочего дня': str, 'Конец рабочего дня': str})\n",
    "\n",
    "steps = pd.read_excel('worktime-test-example.xlsx', sheet_name='Случаи')\n",
    "schedule_raw"
   ],
   "metadata": {
    "collapsed": false,
    "pycharm": {
     "name": "#%%\n"
    }
   }
  },
  {
   "cell_type": "code",
   "execution_count": 2,
   "outputs": [],
   "source": [
    "sch = convert_data(schedule_raw, 'День', 'Начало рабочего дня', 'Конец рабочего дня', 'Рабочий день')\n",
    "\n",
    "for i in range(len(steps)):\n",
    "    dt = worktime(steps.loc[i, 'Степ 1'], steps.loc[i, 'Степ 2'], sch)\n",
    "    steps.loc[i, 'Рабочее время'] = str(dt.round('s'))\n",
    "    steps.loc[i, 'Рабочее время в секундах'] = round(dt.total_seconds())"
   ],
   "metadata": {
    "collapsed": false,
    "pycharm": {
     "name": "#%%\n"
    }
   }
  },
  {
   "cell_type": "code",
   "execution_count": 3,
   "outputs": [
    {
     "data": {
      "text/plain": "   ID работника              Степ 1                  Степ 2    Рабочее время  \\\n0             1 2022-05-04 12:25:00 2022-05-04 12:35:00.000  0 days 00:10:00   \n1             1 2022-05-04 12:25:00 2022-05-05 12:34:59.995  0 days 09:10:00   \n2             1 2022-05-04 12:25:00 2022-05-06 12:34:59.990  0 days 18:10:00   \n3             1 2022-04-29 15:35:00 2022-05-04 13:45:00.000  0 days 05:55:00   \n4             1 2022-05-04 08:25:00 2022-05-04 12:35:00.000  0 days 04:10:00   \n5             1 2022-05-04 08:25:00 2022-05-05 12:35:00.000  0 days 13:10:00   \n6             1 2022-05-04 08:25:00 2022-05-04 19:35:00.000  0 days 11:10:00   \n7             1 2022-05-04 08:25:00 2022-05-06 19:35:00.000  1 days 05:10:00   \n8             1 2022-05-04 14:25:00 2022-05-05 08:35:00.000  0 days 03:35:00   \n9             1 2022-05-04 14:25:00 2022-05-05 00:05:00.000  0 days 03:35:00   \n\n   Рабочее время в секундах                                        Особенность  \n0                     600.0                               Обычный рабочий день  \n1                   33000.0                   Степ 2 на следующий рабочий день  \n2                   65400.0                     Степ 2 через один рабочий день  \n3                   21300.0                          Степ 2 через выходные дни  \n4                   15000.0                   Степ 1 начался раньше расписания  \n5                   47400.0  Степ 1 начался раньше расписания и Степ 2 зако...  \n6                   40200.0  Степ 1 начался раньше расписания и Степ 2 зако...  \n7                  105000.0  Степ 1 начался раньше расписания и Степ 2 зако...  \n8                   12900.0  Степ 2 закончился на следующий день до начала ...  \n9                   12900.0  Степ 2 закончился на следующий день очень рано...  ",
      "text/html": "<div>\n<style scoped>\n    .dataframe tbody tr th:only-of-type {\n        vertical-align: middle;\n    }\n\n    .dataframe tbody tr th {\n        vertical-align: top;\n    }\n\n    .dataframe thead th {\n        text-align: right;\n    }\n</style>\n<table border=\"1\" class=\"dataframe\">\n  <thead>\n    <tr style=\"text-align: right;\">\n      <th></th>\n      <th>ID работника</th>\n      <th>Степ 1</th>\n      <th>Степ 2</th>\n      <th>Рабочее время</th>\n      <th>Рабочее время в секундах</th>\n      <th>Особенность</th>\n    </tr>\n  </thead>\n  <tbody>\n    <tr>\n      <th>0</th>\n      <td>1</td>\n      <td>2022-05-04 12:25:00</td>\n      <td>2022-05-04 12:35:00.000</td>\n      <td>0 days 00:10:00</td>\n      <td>600.0</td>\n      <td>Обычный рабочий день</td>\n    </tr>\n    <tr>\n      <th>1</th>\n      <td>1</td>\n      <td>2022-05-04 12:25:00</td>\n      <td>2022-05-05 12:34:59.995</td>\n      <td>0 days 09:10:00</td>\n      <td>33000.0</td>\n      <td>Степ 2 на следующий рабочий день</td>\n    </tr>\n    <tr>\n      <th>2</th>\n      <td>1</td>\n      <td>2022-05-04 12:25:00</td>\n      <td>2022-05-06 12:34:59.990</td>\n      <td>0 days 18:10:00</td>\n      <td>65400.0</td>\n      <td>Степ 2 через один рабочий день</td>\n    </tr>\n    <tr>\n      <th>3</th>\n      <td>1</td>\n      <td>2022-04-29 15:35:00</td>\n      <td>2022-05-04 13:45:00.000</td>\n      <td>0 days 05:55:00</td>\n      <td>21300.0</td>\n      <td>Степ 2 через выходные дни</td>\n    </tr>\n    <tr>\n      <th>4</th>\n      <td>1</td>\n      <td>2022-05-04 08:25:00</td>\n      <td>2022-05-04 12:35:00.000</td>\n      <td>0 days 04:10:00</td>\n      <td>15000.0</td>\n      <td>Степ 1 начался раньше расписания</td>\n    </tr>\n    <tr>\n      <th>5</th>\n      <td>1</td>\n      <td>2022-05-04 08:25:00</td>\n      <td>2022-05-05 12:35:00.000</td>\n      <td>0 days 13:10:00</td>\n      <td>47400.0</td>\n      <td>Степ 1 начался раньше расписания и Степ 2 зако...</td>\n    </tr>\n    <tr>\n      <th>6</th>\n      <td>1</td>\n      <td>2022-05-04 08:25:00</td>\n      <td>2022-05-04 19:35:00.000</td>\n      <td>0 days 11:10:00</td>\n      <td>40200.0</td>\n      <td>Степ 1 начался раньше расписания и Степ 2 зако...</td>\n    </tr>\n    <tr>\n      <th>7</th>\n      <td>1</td>\n      <td>2022-05-04 08:25:00</td>\n      <td>2022-05-06 19:35:00.000</td>\n      <td>1 days 05:10:00</td>\n      <td>105000.0</td>\n      <td>Степ 1 начался раньше расписания и Степ 2 зако...</td>\n    </tr>\n    <tr>\n      <th>8</th>\n      <td>1</td>\n      <td>2022-05-04 14:25:00</td>\n      <td>2022-05-05 08:35:00.000</td>\n      <td>0 days 03:35:00</td>\n      <td>12900.0</td>\n      <td>Степ 2 закончился на следующий день до начала ...</td>\n    </tr>\n    <tr>\n      <th>9</th>\n      <td>1</td>\n      <td>2022-05-04 14:25:00</td>\n      <td>2022-05-05 00:05:00.000</td>\n      <td>0 days 03:35:00</td>\n      <td>12900.0</td>\n      <td>Степ 2 закончился на следующий день очень рано...</td>\n    </tr>\n  </tbody>\n</table>\n</div>"
     },
     "execution_count": 3,
     "metadata": {},
     "output_type": "execute_result"
    }
   ],
   "source": [
    "steps.to_excel('worktime-after-test.xlsx', index=False, sheet_name='Случаи')\n",
    "steps"
   ],
   "metadata": {
    "collapsed": false,
    "pycharm": {
     "name": "#%%\n"
    }
   }
  }
 ],
 "metadata": {
  "kernelspec": {
   "display_name": "Python 3",
   "language": "python",
   "name": "python3"
  },
  "language_info": {
   "codemirror_mode": {
    "name": "ipython",
    "version": 2
   },
   "file_extension": ".py",
   "mimetype": "text/x-python",
   "name": "python",
   "nbconvert_exporter": "python",
   "pygments_lexer": "ipython2",
   "version": "2.7.6"
  }
 },
 "nbformat": 4,
 "nbformat_minor": 0
}